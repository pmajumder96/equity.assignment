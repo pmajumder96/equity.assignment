{
 "cells": [
  {
   "cell_type": "markdown",
   "metadata": {},
   "source": [
    "# Assignment by Pritha Majumder"
   ]
  },
  {
   "cell_type": "code",
   "execution_count": 1,
   "metadata": {},
   "outputs": [],
   "source": [
    "#importing the pandas package and the libraries such as matplotlib and numpy for making the required function and plotting\n",
    "\n",
    "import pandas as pd, matplotlib.pyplot as plt, numpy as np, math"
   ]
  },
  {
   "cell_type": "code",
   "execution_count": 2,
   "metadata": {},
   "outputs": [
    {
     "data": {
      "text/html": [
       "<div>\n",
       "<style scoped>\n",
       "    .dataframe tbody tr th:only-of-type {\n",
       "        vertical-align: middle;\n",
       "    }\n",
       "\n",
       "    .dataframe tbody tr th {\n",
       "        vertical-align: top;\n",
       "    }\n",
       "\n",
       "    .dataframe thead th {\n",
       "        text-align: right;\n",
       "    }\n",
       "</style>\n",
       "<table border=\"1\" class=\"dataframe\">\n",
       "  <thead>\n",
       "    <tr style=\"text-align: right;\">\n",
       "      <th></th>\n",
       "      <th>ticker_exchange</th>\n",
       "      <th>date</th>\n",
       "      <th>price</th>\n",
       "      <th>entrVal</th>\n",
       "      <th>shares</th>\n",
       "      <th>fcfNtm</th>\n",
       "      <th>epsNtm</th>\n",
       "      <th>ebitdaNtm</th>\n",
       "      <th>ebitNtm</th>\n",
       "      <th>salesNtm</th>\n",
       "      <th>...</th>\n",
       "      <th>netIncNtm</th>\n",
       "      <th>netIncLtm</th>\n",
       "      <th>cffoNtm</th>\n",
       "      <th>salesCY0</th>\n",
       "      <th>salesCY3</th>\n",
       "      <th>metric1</th>\n",
       "      <th>entrVal/ebitdaNTM</th>\n",
       "      <th>entrVal/SalesNTM</th>\n",
       "      <th>Roe</th>\n",
       "      <th>pB.1</th>\n",
       "    </tr>\n",
       "  </thead>\n",
       "  <tbody>\n",
       "    <tr>\n",
       "      <th>0</th>\n",
       "      <td>ABC-USA</td>\n",
       "      <td>2/28/2015</td>\n",
       "      <td>102.76</td>\n",
       "      <td>22263.73883</td>\n",
       "      <td>219.34088</td>\n",
       "      <td>1668.9937</td>\n",
       "      <td>4.853142</td>\n",
       "      <td>2048.3130</td>\n",
       "      <td>1845.2452</td>\n",
       "      <td>136616.95</td>\n",
       "      <td>...</td>\n",
       "      <td>1103.8673</td>\n",
       "      <td>974.04626</td>\n",
       "      <td>1976.6617</td>\n",
       "      <td>152832.40</td>\n",
       "      <td>149338.44</td>\n",
       "      <td>21.17391166</td>\n",
       "      <td>NaN</td>\n",
       "      <td>NaN</td>\n",
       "      <td>NaN</td>\n",
       "      <td>NaN</td>\n",
       "    </tr>\n",
       "    <tr>\n",
       "      <th>1</th>\n",
       "      <td>ABC-USA</td>\n",
       "      <td>3/31/2015</td>\n",
       "      <td>113.67</td>\n",
       "      <td>26632.24246</td>\n",
       "      <td>221.11012</td>\n",
       "      <td>1549.4333</td>\n",
       "      <td>4.947153</td>\n",
       "      <td>2093.1330</td>\n",
       "      <td>1881.1853</td>\n",
       "      <td>138380.28</td>\n",
       "      <td>...</td>\n",
       "      <td>1112.5739</td>\n",
       "      <td>981.83405</td>\n",
       "      <td>1891.1500</td>\n",
       "      <td>152832.40</td>\n",
       "      <td>150918.11</td>\n",
       "      <td>22.97685153</td>\n",
       "      <td>NaN</td>\n",
       "      <td>NaN</td>\n",
       "      <td>NaN</td>\n",
       "      <td>NaN</td>\n",
       "    </tr>\n",
       "    <tr>\n",
       "      <th>2</th>\n",
       "      <td>ABC-USA</td>\n",
       "      <td>4/30/2015</td>\n",
       "      <td>114.30</td>\n",
       "      <td>26770.59468</td>\n",
       "      <td>221.11012</td>\n",
       "      <td>1642.0598</td>\n",
       "      <td>5.246471</td>\n",
       "      <td>2215.2153</td>\n",
       "      <td>1996.0290</td>\n",
       "      <td>140687.77</td>\n",
       "      <td>...</td>\n",
       "      <td>1188.4678</td>\n",
       "      <td>1030.03760</td>\n",
       "      <td>2014.8319</td>\n",
       "      <td>154812.31</td>\n",
       "      <td>153489.73</td>\n",
       "      <td>21.78607504</td>\n",
       "      <td>NaN</td>\n",
       "      <td>NaN</td>\n",
       "      <td>NaN</td>\n",
       "      <td>NaN</td>\n",
       "    </tr>\n",
       "    <tr>\n",
       "      <th>3</th>\n",
       "      <td>ABC-USA</td>\n",
       "      <td>5/31/2015</td>\n",
       "      <td>112.56</td>\n",
       "      <td>26397.59915</td>\n",
       "      <td>221.11012</td>\n",
       "      <td>1625.2172</td>\n",
       "      <td>5.325835</td>\n",
       "      <td>2237.1802</td>\n",
       "      <td>2024.3136</td>\n",
       "      <td>141446.94</td>\n",
       "      <td>...</td>\n",
       "      <td>1202.6989</td>\n",
       "      <td>1045.87790</td>\n",
       "      <td>1983.0802</td>\n",
       "      <td>162952.20</td>\n",
       "      <td>153663.36</td>\n",
       "      <td>21.13471409</td>\n",
       "      <td>NaN</td>\n",
       "      <td>NaN</td>\n",
       "      <td>NaN</td>\n",
       "      <td>NaN</td>\n",
       "    </tr>\n",
       "    <tr>\n",
       "      <th>4</th>\n",
       "      <td>ABC-USA</td>\n",
       "      <td>6/30/2015</td>\n",
       "      <td>106.34</td>\n",
       "      <td>24556.37693</td>\n",
       "      <td>216.51753</td>\n",
       "      <td>1596.6022</td>\n",
       "      <td>5.396079</td>\n",
       "      <td>2289.2683</td>\n",
       "      <td>2078.0518</td>\n",
       "      <td>142463.25</td>\n",
       "      <td>...</td>\n",
       "      <td>1238.8656</td>\n",
       "      <td>1077.16880</td>\n",
       "      <td>1952.8080</td>\n",
       "      <td>162952.20</td>\n",
       "      <td>153663.36</td>\n",
       "      <td>19.70690345</td>\n",
       "      <td>NaN</td>\n",
       "      <td>NaN</td>\n",
       "      <td>NaN</td>\n",
       "      <td>NaN</td>\n",
       "    </tr>\n",
       "  </tbody>\n",
       "</table>\n",
       "<p>5 rows × 66 columns</p>\n",
       "</div>"
      ],
      "text/plain": [
       "  ticker_exchange       date   price      entrVal     shares     fcfNtm  \\\n",
       "0         ABC-USA  2/28/2015  102.76  22263.73883  219.34088  1668.9937   \n",
       "1         ABC-USA  3/31/2015  113.67  26632.24246  221.11012  1549.4333   \n",
       "2         ABC-USA  4/30/2015  114.30  26770.59468  221.11012  1642.0598   \n",
       "3         ABC-USA  5/31/2015  112.56  26397.59915  221.11012  1625.2172   \n",
       "4         ABC-USA  6/30/2015  106.34  24556.37693  216.51753  1596.6022   \n",
       "\n",
       "     epsNtm  ebitdaNtm    ebitNtm   salesNtm  ...  netIncNtm   netIncLtm  \\\n",
       "0  4.853142  2048.3130  1845.2452  136616.95  ...  1103.8673   974.04626   \n",
       "1  4.947153  2093.1330  1881.1853  138380.28  ...  1112.5739   981.83405   \n",
       "2  5.246471  2215.2153  1996.0290  140687.77  ...  1188.4678  1030.03760   \n",
       "3  5.325835  2237.1802  2024.3136  141446.94  ...  1202.6989  1045.87790   \n",
       "4  5.396079  2289.2683  2078.0518  142463.25  ...  1238.8656  1077.16880   \n",
       "\n",
       "     cffoNtm   salesCY0   salesCY3      metric1  entrVal/ebitdaNTM  \\\n",
       "0  1976.6617  152832.40  149338.44  21.17391166                NaN   \n",
       "1  1891.1500  152832.40  150918.11  22.97685153                NaN   \n",
       "2  2014.8319  154812.31  153489.73  21.78607504                NaN   \n",
       "3  1983.0802  162952.20  153663.36  21.13471409                NaN   \n",
       "4  1952.8080  162952.20  153663.36  19.70690345                NaN   \n",
       "\n",
       "   entrVal/SalesNTM  Roe  pB.1  \n",
       "0               NaN  NaN   NaN  \n",
       "1               NaN  NaN   NaN  \n",
       "2               NaN  NaN   NaN  \n",
       "3               NaN  NaN   NaN  \n",
       "4               NaN  NaN   NaN  \n",
       "\n",
       "[5 rows x 66 columns]"
      ]
     },
     "execution_count": 2,
     "metadata": {},
     "output_type": "execute_result"
    }
   ],
   "source": [
    "#extracting the csv file and reading the file into data frame\n",
    "df = pd.read_csv(r'C:\\Users\\psmaj\\Desktop\\interviewAssignment.csv')\n",
    "df.head()"
   ]
  },
  {
   "cell_type": "code",
   "execution_count": 7,
   "metadata": {},
   "outputs": [
    {
     "data": {
      "image/png": "[encoded data removed]",
      "text/plain": [
       "<Figure size 432x288 with 1 Axes>"
      ]
     },
     "metadata": {
      "needs_background": "light"
     },
     "output_type": "display_data"
    },
    {
     "data": {
      "image/png": "[encoded data removed]",
      "text/plain": [
       "<Figure size 432x288 with 1 Axes>"
      ]
     },
     "metadata": {
      "needs_background": "light"
     },
     "output_type": "display_data"
    },
    {
     "data": {
      "image/png": "[encoded data removed]",
      "text/plain": [
       "<Figure size 432x288 with 1 Axes>"
      ]
     },
     "metadata": {
      "needs_background": "light"
     },
     "output_type": "display_data"
    },
    {
     "data": {
      "image/png": "[encoded data removed]",
      "text/plain": [
       "<Figure size 432x288 with 1 Axes>"
      ]
     },
     "metadata": {
      "needs_background": "light"
     },
     "output_type": "display_data"
    },
    {
     "data": {
      "image/png": "[encoded data removed]",
      "text/plain": [
       "<Figure size 432x288 with 1 Axes>"
      ]
     },
     "metadata": {
      "needs_background": "light"
     },
     "output_type": "display_data"
    }
   ],
   "source": [
    "#the histogram function with parameters such as metric,value,timeframe and binsize\n",
    "\n",
    "def get_histogram(metric, value, timeframe, bin_size):\n",
    "    \n",
    "#a dictionary of timeframe from where the required price return is picked based on the time for which the price return is observed    \n",
    "    timeframe_to_col_dic = {1: \"priceReturn1M\", 3: \"priceReturn3M\", 6: \"priceReturn6M\", 12: \"priceReturn12M\"}\n",
    "    \n",
    "# assigning the criteria for binning the price return based on condition that metric> value \n",
    "    price_return_vals = [float(num) for num in pd.read_csv(r'C:\\Users\\psmaj\\Desktop\\interviewAssignment.csv').query(metric + \">\" + str(value))[timeframe_to_col_dic[timeframe]].values.tolist() if num not in [\"#VALUE!\", \"#DIV/0!\"]]\n",
    "    \n",
    "# ploting the histogram function with labels   \n",
    "    plt.hist(price_return_vals, bins=list(np.arange(math.floor(min(price_return_vals)), int(max(price_return_vals) + bin_size), bin_size)), rwidth=0.75)\n",
    "    plt.ylabel('frequency')\n",
    "    plt.xlabel('Price Returns')\n",
    "    plt.show()\n",
    "    \n",
    "#a dictionary for parameters stating optimal values for each metric so that histogram is scaled appropriately    \n",
    "params_dic = {'price/epsNtm': [30, 6, 0.2], 'entrVal/ebitdaNtm': [1200, 6, 0.2], 'entrVal/salesNtm': [2000, 6, 0.2], 'roe': [300, 6, 0.2], 'pB': [2000, 6, 0.2]}\n",
    "\n",
    "#pick the key based on the value(parameters) from the dictionary and make the appropriate histogram\n",
    "for key in params_dic.keys():\n",
    "    get_histogram(key, *params_dic[key])"
   ]
  },
  {
   "cell_type": "markdown",
   "metadata": {},
   "source": [
    "##### 1st Diagram:\n",
    "Price/Earnings for next twelve months shows the price deflected by earnings per share.\n",
    "So, from the diagram its seen that the ratio has a high frequency around 0. \n",
    " So, the ratio is mostly less than 1 or nearing to negative which implies that price mstly supercedes the earning shares\n",
    "by a great extent.\n",
    "It implies a low forward P/E ratio that shows the stocks are undervalued in the market.\n",
    "The distribution of the price returns for this metric and value is skewed leftwards.\n",
    "\n",
    "    "
   ]
  },
  {
   "cell_type": "markdown",
   "metadata": {},
   "source": [
    "#### 2nd  Diagram:\n",
    "The entrVal is the value of a stock for Entropic Communications (NASDAQ Stock Exchange) and signifies the enterprice value.The ratio is similar to EV/EBITDA ratio and here is concentrated for price returns around 0 to 0.25. The distribution of the price returns for this metric and value is more or less centered.\n"
   ]
  },
  {
   "cell_type": "markdown",
   "metadata": {},
   "source": [
    "#### 3rd  Diagram\n",
    "The metric used in this histogram shows the a higher ratio would been the compnay has a higher value of stock in comparison to its sales.\n",
    "The histogram is skewed leftward."
   ]
  },
  {
   "cell_type": "markdown",
   "metadata": {},
   "source": [
    "#### 4th  Diagram\n",
    "The return on equity measures the financial performace of company and how effectively the company is using its assets.\n",
    "The histogram is more or less centered and the price returns accumulate around 0 to 0.25"
   ]
  },
  {
   "cell_type": "markdown",
   "metadata": {},
   "source": [
    "#### 5th Diagram\n",
    "The price to Book ratio shows the higher the stock the higher the ratio and its mostly higher around 0.\n",
    "The histogram is slightly skewed towards left."
   ]
  },
  {
   "cell_type": "code",
   "execution_count": null,
   "metadata": {},
   "outputs": [],
   "source": []
  }
 ],
 "metadata": {
  "kernelspec": {
   "display_name": "Python 3",
   "language": "python",
   "name": "python3"
  },
  "language_info": {
   "codemirror_mode": {
    "name": "ipython",
    "version": 3
   },
   "file_extension": ".py",
   "mimetype": "text/x-python",
   "name": "python",
   "nbconvert_exporter": "python",
   "pygments_lexer": "ipython3",
   "version": "3.7.6"
  }
 },
 "nbformat": 4,
 "nbformat_minor": 4
}
